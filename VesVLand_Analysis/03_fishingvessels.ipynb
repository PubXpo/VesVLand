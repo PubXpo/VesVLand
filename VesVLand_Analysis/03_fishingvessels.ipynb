{
 "cells": [
  {
   "cell_type": "markdown",
   "id": "917abae9",
   "metadata": {},
   "source": [
    "# Updating the imported Fishing Vessels data"
   ]
  },
  {
   "cell_type": "code",
   "execution_count": null,
   "metadata": {},
   "outputs": [],
   "source": [
    "# import modules needed and database connection from setup file\n",
    "\n",
    "# %run 02_setup.py"
   ]
  },
  {
   "cell_type": "markdown",
   "metadata": {},
   "source": [
    "The setup file is disabled by default as this notebook is called in the project diary which already implements the set ups. It can be enabled here if this notebook needs to be ran independently."
   ]
  },
  {
   "cell_type": "markdown",
   "metadata": {},
   "source": [
    "## Store the data in a MongoDB database"
   ]
  },
  {
   "cell_type": "markdown",
   "metadata": {},
   "source": [
    "The data files for UK registered fishing vessels are found in the folder:\n",
    "```\n",
    "    Analysis_data/FishingVessels\n",
    "```"
   ]
  },
  {
   "cell_type": "code",
   "execution_count": 8,
   "id": "2e812fc1",
   "metadata": {},
   "outputs": [
    {
     "data": {
      "text/plain": [
       "{'ok': 0.0,\n",
       " 'errmsg': 'ns not found',\n",
       " 'code': 26,\n",
       " 'codeName': 'NamespaceNotFound'}"
      ]
     },
     "execution_count": 8,
     "metadata": {},
     "output_type": "execute_result"
    }
   ],
   "source": [
    "# check and remove existing fishing vessels data\n",
    "ves_land_db.drop_collection('uk_fishing_collection')\n",
    "ves_land_db.drop_collection('uk_adminport_geoloc')"
   ]
  },
  {
   "cell_type": "code",
   "execution_count": 9,
   "metadata": {},
   "outputs": [],
   "source": [
    "# create a uk fishing collection\n",
    "ves_land_db.drop_collection('uk_fishing_collection')\n",
    "uf_collection = ves_land_db['uk_fishing_collection']"
   ]
  },
  {
   "cell_type": "code",
   "execution_count": 10,
   "id": "5470d8a3",
   "metadata": {
    "tags": [
     "style-student"
    ]
   },
   "outputs": [
    {
     "data": {
      "text/plain": [
       "['January_2017_Over_10m_vessel_list.xls',\n",
       " 'January_2017_Under_10m_vessel_list.xls',\n",
       " 'January_2018_Over_10m_vessel_list.xls',\n",
       " 'January_2018_Under_10m_vessel_list.xls',\n",
       " 'January_2021_Over_10m_vessel_list.xls',\n",
       " 'January_2021_Under_10m_vessel_list.xls',\n",
       " 'Jan_2019_Over_10m_vessel_list.xls',\n",
       " 'Jan_2019_Under_10m_vessel_list.xls',\n",
       " 'Jan_2020_Over_10m_vessel_list.xls',\n",
       " 'Jan_2020_Under_10m_vessel_list.xls']"
      ]
     },
     "execution_count": 10,
     "metadata": {},
     "output_type": "execute_result"
    }
   ],
   "source": [
    "# get the names of the files in the directory\n",
    "os.listdir(\"Analysis_data/FishingVessels\")"
   ]
  },
  {
   "cell_type": "markdown",
   "id": "1615b4c8",
   "metadata": {
    "tags": [
     "style-student"
    ]
   },
   "source": [
    "Before importing the files into mongoDB they were analysed and cleaned."
   ]
  },
  {
   "cell_type": "markdown",
   "id": "6b625993",
   "metadata": {
    "tags": [
     "style-student"
    ]
   },
   "source": [
    "The files were imported in order based on Length. This is because it is assumed that since they capture similar data, they are likely to have the same column. This may require less amendments. They can then be merged into a single file based on length. Two final two data frames can be matched by column names then added to mongodb."
   ]
  },
  {
   "cell_type": "markdown",
   "id": "a6b18dfb",
   "metadata": {
    "tags": [
     "style-student"
    ]
   },
   "source": [
    "As the excel files did not state the years, a 'For year' column is added to each file, with the corresponding year, when imported."
   ]
  },
  {
   "cell_type": "markdown",
   "metadata": {},
   "source": [
    "When adding files to the dataframe, it is acknowledged that the report are done in Jan but represents the following year. For example the 2018 data is for data captured in the 2017. To accurately represent this, the a column \"For year\" is added with the year of the report minus 1. So 2017 - 1 means the report is for the year 2016."
   ]
  },
  {
   "cell_type": "markdown",
   "id": "74bcda41",
   "metadata": {
    "tags": [
     "style-student"
    ]
   },
   "source": [
    "#### Importing data with years for vessels of over 10 metres"
   ]
  },
  {
   "cell_type": "markdown",
   "id": "379ae7f0",
   "metadata": {
    "tags": [
     "style-student"
    ]
   },
   "source": [
    "The sheet was reviewed before import so it was known the the data existed on the first sheet of each document and the line the data started on was 5."
   ]
  },
  {
   "cell_type": "code",
   "execution_count": 11,
   "id": "352980a9",
   "metadata": {
    "tags": [
     "style-student"
    ]
   },
   "outputs": [
    {
     "data": {
      "text/html": [
       "<div>\n",
       "<style scoped>\n",
       "    .dataframe tbody tr th:only-of-type {\n",
       "        vertical-align: middle;\n",
       "    }\n",
       "\n",
       "    .dataframe tbody tr th {\n",
       "        vertical-align: top;\n",
       "    }\n",
       "\n",
       "    .dataframe thead th {\n",
       "        text-align: right;\n",
       "    }\n",
       "</style>\n",
       "<table border=\"1\" class=\"dataframe\">\n",
       "  <thead>\n",
       "    <tr style=\"text-align: right;\">\n",
       "      <th></th>\n",
       "      <th>Administrative port</th>\n",
       "      <th>Home port</th>\n",
       "      <th>Port letters and numbers</th>\n",
       "      <th>Vessel name</th>\n",
       "      <th>Registry of Shipping and Seamen number</th>\n",
       "      <th>Licence number</th>\n",
       "      <th>Fish producer organisation</th>\n",
       "      <th>Overall length</th>\n",
       "      <th>Registered tonnage</th>\n",
       "      <th>Engine power</th>\n",
       "      <th>Vessel capacity units</th>\n",
       "      <th>Year built</th>\n",
       "      <th>Hull</th>\n",
       "      <th>Country of construction</th>\n",
       "      <th>Shellfish  licence (Y/N)</th>\n",
       "      <th>Scallop licence (Y/N)</th>\n",
       "      <th>For Year</th>\n",
       "      <th>Licence Category</th>\n",
       "    </tr>\n",
       "  </thead>\n",
       "  <tbody>\n",
       "    <tr>\n",
       "      <th>0</th>\n",
       "      <td>ABERDEEN</td>\n",
       "      <td>ABERDEEN</td>\n",
       "      <td>WK46</td>\n",
       "      <td>LILY V</td>\n",
       "      <td>A10911</td>\n",
       "      <td>44163</td>\n",
       "      <td>NON-SECTOR</td>\n",
       "      <td>10.30</td>\n",
       "      <td>10.36</td>\n",
       "      <td>82.0</td>\n",
       "      <td>82.632</td>\n",
       "      <td>1983.0</td>\n",
       "      <td>W</td>\n",
       "      <td>GBR</td>\n",
       "      <td>Y</td>\n",
       "      <td>N</td>\n",
       "      <td>2016</td>\n",
       "      <td>NaN</td>\n",
       "    </tr>\n",
       "    <tr>\n",
       "      <th>1</th>\n",
       "      <td>ABERDEEN</td>\n",
       "      <td>ABERDEEN</td>\n",
       "      <td>AH4</td>\n",
       "      <td>BONNIE LASS II</td>\n",
       "      <td>C20280</td>\n",
       "      <td>11955</td>\n",
       "      <td>NON-SECTOR</td>\n",
       "      <td>10.40</td>\n",
       "      <td>9.41</td>\n",
       "      <td>140.0</td>\n",
       "      <td>103.872</td>\n",
       "      <td>2012.0</td>\n",
       "      <td>F</td>\n",
       "      <td>GBR</td>\n",
       "      <td>Y</td>\n",
       "      <td>N</td>\n",
       "      <td>2016</td>\n",
       "      <td>NaN</td>\n",
       "    </tr>\n",
       "    <tr>\n",
       "      <th>2</th>\n",
       "      <td>ABERDEEN</td>\n",
       "      <td>ABERDEEN</td>\n",
       "      <td>A441</td>\n",
       "      <td>BOY GORDON V</td>\n",
       "      <td>B10713</td>\n",
       "      <td>40414</td>\n",
       "      <td>ABERDEEN FPO LTD</td>\n",
       "      <td>11.28</td>\n",
       "      <td>28.06</td>\n",
       "      <td>94.0</td>\n",
       "      <td>94.639</td>\n",
       "      <td>1989.0</td>\n",
       "      <td>F</td>\n",
       "      <td>GBR</td>\n",
       "      <td>Y</td>\n",
       "      <td>N</td>\n",
       "      <td>2016</td>\n",
       "      <td>NaN</td>\n",
       "    </tr>\n",
       "    <tr>\n",
       "      <th>6267</th>\n",
       "      <td>ULLAPOOL</td>\n",
       "      <td>ULLAPOOL</td>\n",
       "      <td>UL1</td>\n",
       "      <td>ONWARD</td>\n",
       "      <td>B10067</td>\n",
       "      <td>40995</td>\n",
       "      <td>SCOTTISH FISHERMENS ORGANISATION</td>\n",
       "      <td>11.62</td>\n",
       "      <td>16.74</td>\n",
       "      <td>149.2</td>\n",
       "      <td>119.198</td>\n",
       "      <td>1988.0</td>\n",
       "      <td>F</td>\n",
       "      <td>GBR</td>\n",
       "      <td>Y</td>\n",
       "      <td>Y</td>\n",
       "      <td>2019</td>\n",
       "      <td>OVER 10 METRE</td>\n",
       "    </tr>\n",
       "    <tr>\n",
       "      <th>6268</th>\n",
       "      <td>ULLAPOOL</td>\n",
       "      <td>ULLAPOOL</td>\n",
       "      <td>UL584</td>\n",
       "      <td>LADY NICOLA</td>\n",
       "      <td>C19830</td>\n",
       "      <td>40454</td>\n",
       "      <td>NON-SECTOR</td>\n",
       "      <td>11.39</td>\n",
       "      <td>15.33</td>\n",
       "      <td>164.0</td>\n",
       "      <td>121.410</td>\n",
       "      <td>1989.0</td>\n",
       "      <td>F</td>\n",
       "      <td>GBR</td>\n",
       "      <td>N</td>\n",
       "      <td>N</td>\n",
       "      <td>2019</td>\n",
       "      <td>OVER 10 METRE</td>\n",
       "    </tr>\n",
       "    <tr>\n",
       "      <th>6269</th>\n",
       "      <td>ULLAPOOL</td>\n",
       "      <td>ULLAPOOL</td>\n",
       "      <td>UL595</td>\n",
       "      <td>COURAGE</td>\n",
       "      <td>C20423</td>\n",
       "      <td>41687</td>\n",
       "      <td>NON-SECTOR</td>\n",
       "      <td>12.90</td>\n",
       "      <td>18.86</td>\n",
       "      <td>147.0</td>\n",
       "      <td>120.330</td>\n",
       "      <td>1980.0</td>\n",
       "      <td>S</td>\n",
       "      <td>SWE</td>\n",
       "      <td>N</td>\n",
       "      <td>N</td>\n",
       "      <td>2019</td>\n",
       "      <td>OVER 10 METRE</td>\n",
       "    </tr>\n",
       "  </tbody>\n",
       "</table>\n",
       "</div>"
      ],
      "text/plain": [
       "     Administrative port Home port Port letters and numbers     Vessel name  \\\n",
       "0               ABERDEEN  ABERDEEN                     WK46          LILY V   \n",
       "1               ABERDEEN  ABERDEEN                      AH4  BONNIE LASS II   \n",
       "2               ABERDEEN  ABERDEEN                     A441    BOY GORDON V   \n",
       "6267            ULLAPOOL  ULLAPOOL                      UL1          ONWARD   \n",
       "6268            ULLAPOOL  ULLAPOOL                    UL584     LADY NICOLA   \n",
       "6269            ULLAPOOL  ULLAPOOL                    UL595         COURAGE   \n",
       "\n",
       "     Registry of Shipping and Seamen number  Licence number  \\\n",
       "0                                    A10911           44163   \n",
       "1                                    C20280           11955   \n",
       "2                                    B10713           40414   \n",
       "6267                                 B10067           40995   \n",
       "6268                                 C19830           40454   \n",
       "6269                                 C20423           41687   \n",
       "\n",
       "            Fish producer organisation  Overall length  Registered tonnage  \\\n",
       "0                           NON-SECTOR           10.30               10.36   \n",
       "1                           NON-SECTOR           10.40                9.41   \n",
       "2                     ABERDEEN FPO LTD           11.28               28.06   \n",
       "6267  SCOTTISH FISHERMENS ORGANISATION           11.62               16.74   \n",
       "6268                        NON-SECTOR           11.39               15.33   \n",
       "6269                        NON-SECTOR           12.90               18.86   \n",
       "\n",
       "      Engine power  Vessel capacity units  Year built Hull  \\\n",
       "0             82.0                 82.632      1983.0    W   \n",
       "1            140.0                103.872      2012.0    F   \n",
       "2             94.0                 94.639      1989.0    F   \n",
       "6267         149.2                119.198      1988.0    F   \n",
       "6268         164.0                121.410      1989.0    F   \n",
       "6269         147.0                120.330      1980.0    S   \n",
       "\n",
       "     Country of construction Shellfish  licence (Y/N) Scallop licence (Y/N)  \\\n",
       "0                        GBR                        Y                     N   \n",
       "1                        GBR                        Y                     N   \n",
       "2                        GBR                        Y                     N   \n",
       "6267                     GBR                        Y                     Y   \n",
       "6268                     GBR                        N                     N   \n",
       "6269                     SWE                        N                     N   \n",
       "\n",
       "      For Year Licence Category  \n",
       "0         2016              NaN  \n",
       "1         2016              NaN  \n",
       "2         2016              NaN  \n",
       "6267      2019    OVER 10 METRE  \n",
       "6268      2019    OVER 10 METRE  \n",
       "6269      2019    OVER 10 METRE  "
      ]
     },
     "execution_count": 11,
     "metadata": {},
     "output_type": "execute_result"
    }
   ],
   "source": [
    "# initialise an empty df to input all entries\n",
    "uk_over10_df = pd.DataFrame()\n",
    "\n",
    "# get all data from the directory for vessels over 10m\n",
    "for i in glob.glob(\"Analysis_data/FishingVessels/*Over_10m_vessel_list.xls\"):\n",
    "    temp_df = pd.read_excel(i,\n",
    "                        sheet_name=0,\n",
    "                        skiprows=4\n",
    "                        )\n",
    "\n",
    "    # get the year from the string and minus 1 \n",
    "    # add to column that shows the reporting year\n",
    "    temp_df[\"For Year\"] = (int(re.search(r\"_(\\d{4})_\",i).group(1)) - 1)\n",
    "\n",
    "    # add the data to the main df\n",
    "    uk_over10_df =  uk_over10_df.append(temp_df, ignore_index=1)\n",
    "    \n",
    "# preview first and last 3 entries\n",
    "uk_over10_df.head(3).append(uk_over10_df.tail(3))"
   ]
  },
  {
   "cell_type": "markdown",
   "metadata": {},
   "source": [
    "#### Cleaning the data for over 10m - THIS SECTION IS AN UPDATE"
   ]
  },
  {
   "cell_type": "code",
   "execution_count": 12,
   "metadata": {},
   "outputs": [
    {
     "name": "stdout",
     "output_type": "stream",
     "text": [
      "<class 'pandas.core.frame.DataFrame'>\n",
      "RangeIndex: 6270 entries, 0 to 6269\n",
      "Data columns (total 18 columns):\n",
      " #   Column                                  Non-Null Count  Dtype  \n",
      "---  ------                                  --------------  -----  \n",
      " 0   Administrative port                     6270 non-null   object \n",
      " 1   Home port                               6270 non-null   object \n",
      " 2   Port letters and numbers                6270 non-null   object \n",
      " 3   Vessel name                             6270 non-null   object \n",
      " 4   Registry of Shipping and Seamen number  6270 non-null   object \n",
      " 5   Licence number                          6270 non-null   int64  \n",
      " 6   Fish producer organisation              6270 non-null   object \n",
      " 7   Overall length                          6270 non-null   float64\n",
      " 8   Registered tonnage                      6270 non-null   float64\n",
      " 9   Engine power                            6270 non-null   float64\n",
      " 10  Vessel capacity units                   6270 non-null   float64\n",
      " 11  Year built                              6188 non-null   float64\n",
      " 12  Hull                                    6242 non-null   object \n",
      " 13  Country of construction                 5992 non-null   object \n",
      " 14  Shellfish  licence (Y/N)                6269 non-null   object \n",
      " 15  Scallop licence (Y/N)                   6247 non-null   object \n",
      " 16  For Year                                6270 non-null   int64  \n",
      " 17  Licence Category                        5034 non-null   object \n",
      "dtypes: float64(5), int64(2), object(11)\n",
      "memory usage: 881.8+ KB\n"
     ]
    }
   ],
   "source": [
    "# check the df details\n",
    "uk_over10_df.info()"
   ]
  },
  {
   "cell_type": "code",
   "execution_count": 13,
   "id": "1009af3f",
   "metadata": {
    "scrolled": true,
    "tags": [
     "style-student"
    ]
   },
   "outputs": [
    {
     "data": {
      "text/plain": [
       "Administrative port                        object\n",
       "Home port                                  object\n",
       "Port letters and numbers                   object\n",
       "Vessel name                                object\n",
       "Registry of Shipping and Seamen number     object\n",
       "Licence number                              int64\n",
       "Fish producer organisation                 object\n",
       "Overall length                            float64\n",
       "Registered tonnage                        float64\n",
       "Engine power                              float64\n",
       "Vessel capacity units                     float64\n",
       "Year built                                float64\n",
       "Hull                                       object\n",
       "Country of construction                    object\n",
       "Shellfish  licence (Y/N)                   object\n",
       "Scallop licence (Y/N)                      object\n",
       "For Year                                    int64\n",
       "Licence Category                           object\n",
       "dtype: object"
      ]
     },
     "execution_count": 13,
     "metadata": {},
     "output_type": "execute_result"
    }
   ],
   "source": [
    "#Check the column types\n",
    "uk_over10_df.dtypes"
   ]
  },
  {
   "cell_type": "markdown",
   "metadata": {},
   "source": [
    "All types seem to match what they represent"
   ]
  },
  {
   "cell_type": "code",
   "execution_count": 14,
   "metadata": {},
   "outputs": [
    {
     "data": {
      "text/plain": [
       "Administrative port                          0\n",
       "Home port                                    0\n",
       "Port letters and numbers                     0\n",
       "Vessel name                                  0\n",
       "Registry of Shipping and Seamen number       0\n",
       "Licence number                               0\n",
       "Fish producer organisation                   0\n",
       "Overall length                               0\n",
       "Registered tonnage                           0\n",
       "Engine power                                 0\n",
       "Vessel capacity units                        0\n",
       "Year built                                  82\n",
       "Hull                                        28\n",
       "Country of construction                    278\n",
       "Shellfish  licence (Y/N)                     1\n",
       "Scallop licence (Y/N)                       23\n",
       "For Year                                     0\n",
       "Licence Category                          1236\n",
       "dtype: int64"
      ]
     },
     "execution_count": 14,
     "metadata": {},
     "output_type": "execute_result"
    }
   ],
   "source": [
    "# check for null values\n",
    "uk_over10_df.isna().sum()"
   ]
  },
  {
   "cell_type": "markdown",
   "metadata": {},
   "source": [
    "The datasets are unable to state what year some vessels where built, however the vessels can still be used for analysis. The unknown years can temporarily be represented by 0 as the column needs to be a number. "
   ]
  },
  {
   "cell_type": "code",
   "execution_count": 15,
   "metadata": {},
   "outputs": [],
   "source": [
    "# replace null values with 0\n",
    "uk_over10_df[\"Year built\"].fillna(0, inplace=True)"
   ]
  },
  {
   "cell_type": "markdown",
   "metadata": {},
   "source": [
    "Based on the notes tab of the vessels list, Unknown values are represented with \"U\". Therefore this can be used to replaced the null values since it is not possible to know what material the vessel has, via the documents."
   ]
  },
  {
   "cell_type": "code",
   "execution_count": 16,
   "metadata": {},
   "outputs": [],
   "source": [
    "uk_over10_df[\"Hull\"].fillna(\"U\", inplace=True)"
   ]
  },
  {
   "cell_type": "markdown",
   "metadata": {},
   "source": [
    "Based on the notes tab of the vessels list, Unknown values are represented with \"UNK\". Therefore this can be used to replaced the null values since it is not possible to know what material the vessel has, via the documents."
   ]
  },
  {
   "cell_type": "code",
   "execution_count": 17,
   "metadata": {},
   "outputs": [],
   "source": [
    "# replace null Country of construction to UNK\n",
    "uk_over10_df[\"Country of construction\"].fillna(\"UNK\", inplace=True)"
   ]
  },
  {
   "cell_type": "markdown",
   "metadata": {},
   "source": [
    "Since there is just one entry, it is possible that the null values got updated in later years. It can then be updated to match."
   ]
  },
  {
   "cell_type": "code",
   "execution_count": 18,
   "metadata": {},
   "outputs": [
    {
     "data": {
      "text/html": [
       "<div>\n",
       "<style scoped>\n",
       "    .dataframe tbody tr th:only-of-type {\n",
       "        vertical-align: middle;\n",
       "    }\n",
       "\n",
       "    .dataframe tbody tr th {\n",
       "        vertical-align: top;\n",
       "    }\n",
       "\n",
       "    .dataframe thead th {\n",
       "        text-align: right;\n",
       "    }\n",
       "</style>\n",
       "<table border=\"1\" class=\"dataframe\">\n",
       "  <thead>\n",
       "    <tr style=\"text-align: right;\">\n",
       "      <th></th>\n",
       "      <th>Administrative port</th>\n",
       "      <th>Home port</th>\n",
       "      <th>Port letters and numbers</th>\n",
       "      <th>Vessel name</th>\n",
       "      <th>Registry of Shipping and Seamen number</th>\n",
       "      <th>Licence number</th>\n",
       "      <th>Fish producer organisation</th>\n",
       "      <th>Overall length</th>\n",
       "      <th>Registered tonnage</th>\n",
       "      <th>Engine power</th>\n",
       "      <th>Vessel capacity units</th>\n",
       "      <th>Year built</th>\n",
       "      <th>Hull</th>\n",
       "      <th>Country of construction</th>\n",
       "      <th>Shellfish  licence (Y/N)</th>\n",
       "      <th>Scallop licence (Y/N)</th>\n",
       "      <th>For Year</th>\n",
       "      <th>Licence Category</th>\n",
       "    </tr>\n",
       "  </thead>\n",
       "  <tbody>\n",
       "    <tr>\n",
       "      <th>587</th>\n",
       "      <td>KIRKWALL</td>\n",
       "      <td>KIRKWALL</td>\n",
       "      <td>K193</td>\n",
       "      <td>RUSSA TAIGN</td>\n",
       "      <td>C16193</td>\n",
       "      <td>41679</td>\n",
       "      <td>SCOTTISH FISHERMENS ORGANISATION</td>\n",
       "      <td>27.41</td>\n",
       "      <td>354.0</td>\n",
       "      <td>663.27</td>\n",
       "      <td>532.005</td>\n",
       "      <td>1997.0</td>\n",
       "      <td>S</td>\n",
       "      <td>GBR</td>\n",
       "      <td>NaN</td>\n",
       "      <td>NaN</td>\n",
       "      <td>2016</td>\n",
       "      <td>NaN</td>\n",
       "    </tr>\n",
       "  </tbody>\n",
       "</table>\n",
       "</div>"
      ],
      "text/plain": [
       "    Administrative port Home port Port letters and numbers  Vessel name  \\\n",
       "587            KIRKWALL  KIRKWALL                     K193  RUSSA TAIGN   \n",
       "\n",
       "    Registry of Shipping and Seamen number  Licence number  \\\n",
       "587                                 C16193           41679   \n",
       "\n",
       "           Fish producer organisation  Overall length  Registered tonnage  \\\n",
       "587  SCOTTISH FISHERMENS ORGANISATION           27.41               354.0   \n",
       "\n",
       "     Engine power  Vessel capacity units  Year built Hull  \\\n",
       "587        663.27                532.005      1997.0    S   \n",
       "\n",
       "    Country of construction Shellfish  licence (Y/N) Scallop licence (Y/N)  \\\n",
       "587                     GBR                      NaN                   NaN   \n",
       "\n",
       "     For Year Licence Category  \n",
       "587      2016              NaN  "
      ]
     },
     "execution_count": 18,
     "metadata": {},
     "output_type": "execute_result"
    }
   ],
   "source": [
    "# check which item in the Shellfish  licence (Y/N) column is null\n",
    "uk_over10_df[pd.isnull(uk_over10_df[\"Shellfish  licence (Y/N)\"])].head()"
   ]
  },
  {
   "cell_type": "code",
   "execution_count": 19,
   "metadata": {},
   "outputs": [
    {
     "data": {
      "text/html": [
       "<div>\n",
       "<style scoped>\n",
       "    .dataframe tbody tr th:only-of-type {\n",
       "        vertical-align: middle;\n",
       "    }\n",
       "\n",
       "    .dataframe tbody tr th {\n",
       "        vertical-align: top;\n",
       "    }\n",
       "\n",
       "    .dataframe thead th {\n",
       "        text-align: right;\n",
       "    }\n",
       "</style>\n",
       "<table border=\"1\" class=\"dataframe\">\n",
       "  <thead>\n",
       "    <tr style=\"text-align: right;\">\n",
       "      <th></th>\n",
       "      <th>Administrative port</th>\n",
       "      <th>Home port</th>\n",
       "      <th>Port letters and numbers</th>\n",
       "      <th>Vessel name</th>\n",
       "      <th>Registry of Shipping and Seamen number</th>\n",
       "      <th>Licence number</th>\n",
       "      <th>Fish producer organisation</th>\n",
       "      <th>Overall length</th>\n",
       "      <th>Registered tonnage</th>\n",
       "      <th>Engine power</th>\n",
       "      <th>Vessel capacity units</th>\n",
       "      <th>Year built</th>\n",
       "      <th>Hull</th>\n",
       "      <th>Country of construction</th>\n",
       "      <th>Shellfish  licence (Y/N)</th>\n",
       "      <th>Scallop licence (Y/N)</th>\n",
       "      <th>For Year</th>\n",
       "      <th>Licence Category</th>\n",
       "    </tr>\n",
       "  </thead>\n",
       "  <tbody>\n",
       "    <tr>\n",
       "      <th>587</th>\n",
       "      <td>KIRKWALL</td>\n",
       "      <td>KIRKWALL</td>\n",
       "      <td>K193</td>\n",
       "      <td>RUSSA TAIGN</td>\n",
       "      <td>C16193</td>\n",
       "      <td>41679</td>\n",
       "      <td>SCOTTISH FISHERMENS ORGANISATION</td>\n",
       "      <td>27.41</td>\n",
       "      <td>354.0</td>\n",
       "      <td>663.27</td>\n",
       "      <td>532.005</td>\n",
       "      <td>1997.0</td>\n",
       "      <td>S</td>\n",
       "      <td>GBR</td>\n",
       "      <td>NaN</td>\n",
       "      <td>NaN</td>\n",
       "      <td>2016</td>\n",
       "      <td>NaN</td>\n",
       "    </tr>\n",
       "    <tr>\n",
       "      <th>1857</th>\n",
       "      <td>KIRKWALL</td>\n",
       "      <td>KIRKWALL</td>\n",
       "      <td>K193</td>\n",
       "      <td>RUSSA TAIGN</td>\n",
       "      <td>C16193</td>\n",
       "      <td>41679</td>\n",
       "      <td>SCOTTISH FISHERMENS ORGANISATION</td>\n",
       "      <td>27.41</td>\n",
       "      <td>354.0</td>\n",
       "      <td>663.27</td>\n",
       "      <td>532.005</td>\n",
       "      <td>1997.0</td>\n",
       "      <td>S</td>\n",
       "      <td>GBR</td>\n",
       "      <td>N</td>\n",
       "      <td>N</td>\n",
       "      <td>2017</td>\n",
       "      <td>OVER 10 METRE</td>\n",
       "    </tr>\n",
       "    <tr>\n",
       "      <th>3039</th>\n",
       "      <td>KIRKWALL</td>\n",
       "      <td>KIRKWALL</td>\n",
       "      <td>K148</td>\n",
       "      <td>CASPIAN K</td>\n",
       "      <td>C16193</td>\n",
       "      <td>41679</td>\n",
       "      <td>SCOTTISH FISHERMENS ORGANISATION</td>\n",
       "      <td>27.41</td>\n",
       "      <td>354.0</td>\n",
       "      <td>663.27</td>\n",
       "      <td>532.005</td>\n",
       "      <td>1997.0</td>\n",
       "      <td>S</td>\n",
       "      <td>GBR</td>\n",
       "      <td>N</td>\n",
       "      <td>N</td>\n",
       "      <td>2020</td>\n",
       "      <td>OVER 10 METRE</td>\n",
       "    </tr>\n",
       "    <tr>\n",
       "      <th>4733</th>\n",
       "      <td>KIRKWALL</td>\n",
       "      <td>KIRKWALL</td>\n",
       "      <td>K193</td>\n",
       "      <td>RUSSA TAIGN</td>\n",
       "      <td>C16193</td>\n",
       "      <td>41679</td>\n",
       "      <td>SCOTTISH FISHERMENS ORGANISATION</td>\n",
       "      <td>27.41</td>\n",
       "      <td>354.0</td>\n",
       "      <td>663.27</td>\n",
       "      <td>532.005</td>\n",
       "      <td>1997.0</td>\n",
       "      <td>S</td>\n",
       "      <td>GBR</td>\n",
       "      <td>N</td>\n",
       "      <td>N</td>\n",
       "      <td>2018</td>\n",
       "      <td>OVER 10 METRE</td>\n",
       "    </tr>\n",
       "    <tr>\n",
       "      <th>5393</th>\n",
       "      <td>KIRKWALL</td>\n",
       "      <td>KIRKWALL</td>\n",
       "      <td>K193</td>\n",
       "      <td>RUSSA TAIGN</td>\n",
       "      <td>C16193</td>\n",
       "      <td>41679</td>\n",
       "      <td>SCOTTISH FISHERMENS ORGANISATION</td>\n",
       "      <td>27.41</td>\n",
       "      <td>354.0</td>\n",
       "      <td>663.27</td>\n",
       "      <td>532.005</td>\n",
       "      <td>1997.0</td>\n",
       "      <td>S</td>\n",
       "      <td>GBR</td>\n",
       "      <td>N</td>\n",
       "      <td>N</td>\n",
       "      <td>2019</td>\n",
       "      <td>OVER 10 METRE</td>\n",
       "    </tr>\n",
       "  </tbody>\n",
       "</table>\n",
       "</div>"
      ],
      "text/plain": [
       "     Administrative port Home port Port letters and numbers  Vessel name  \\\n",
       "587             KIRKWALL  KIRKWALL                     K193  RUSSA TAIGN   \n",
       "1857            KIRKWALL  KIRKWALL                     K193  RUSSA TAIGN   \n",
       "3039            KIRKWALL  KIRKWALL                     K148    CASPIAN K   \n",
       "4733            KIRKWALL  KIRKWALL                     K193  RUSSA TAIGN   \n",
       "5393            KIRKWALL  KIRKWALL                     K193  RUSSA TAIGN   \n",
       "\n",
       "     Registry of Shipping and Seamen number  Licence number  \\\n",
       "587                                  C16193           41679   \n",
       "1857                                 C16193           41679   \n",
       "3039                                 C16193           41679   \n",
       "4733                                 C16193           41679   \n",
       "5393                                 C16193           41679   \n",
       "\n",
       "            Fish producer organisation  Overall length  Registered tonnage  \\\n",
       "587   SCOTTISH FISHERMENS ORGANISATION           27.41               354.0   \n",
       "1857  SCOTTISH FISHERMENS ORGANISATION           27.41               354.0   \n",
       "3039  SCOTTISH FISHERMENS ORGANISATION           27.41               354.0   \n",
       "4733  SCOTTISH FISHERMENS ORGANISATION           27.41               354.0   \n",
       "5393  SCOTTISH FISHERMENS ORGANISATION           27.41               354.0   \n",
       "\n",
       "      Engine power  Vessel capacity units  Year built Hull  \\\n",
       "587         663.27                532.005      1997.0    S   \n",
       "1857        663.27                532.005      1997.0    S   \n",
       "3039        663.27                532.005      1997.0    S   \n",
       "4733        663.27                532.005      1997.0    S   \n",
       "5393        663.27                532.005      1997.0    S   \n",
       "\n",
       "     Country of construction Shellfish  licence (Y/N) Scallop licence (Y/N)  \\\n",
       "587                      GBR                      NaN                   NaN   \n",
       "1857                     GBR                        N                     N   \n",
       "3039                     GBR                        N                     N   \n",
       "4733                     GBR                        N                     N   \n",
       "5393                     GBR                        N                     N   \n",
       "\n",
       "      For Year Licence Category  \n",
       "587       2016              NaN  \n",
       "1857      2017    OVER 10 METRE  \n",
       "3039      2020    OVER 10 METRE  \n",
       "4733      2018    OVER 10 METRE  \n",
       "5393      2019    OVER 10 METRE  "
      ]
     },
     "execution_count": 19,
     "metadata": {},
     "output_type": "execute_result"
    }
   ],
   "source": [
    "# check other entries for same licence number\n",
    "uk_over10_df[uk_over10_df[\"Licence number\"]==41679]"
   ]
  },
  {
   "cell_type": "code",
   "execution_count": 20,
   "metadata": {},
   "outputs": [],
   "source": [
    "# replace entry to \"N\" to match similar entries\n",
    "uk_over10_df[\"Shellfish  licence (Y/N)\"].fillna(\"N\", inplace=True)"
   ]
  },
  {
   "cell_type": "markdown",
   "metadata": {},
   "source": [
    "It is assumed that no Scallop licence entry meant that the vessel was not issued one for that time. So the null entries where replaced to \"N\" "
   ]
  },
  {
   "cell_type": "code",
   "execution_count": 21,
   "metadata": {},
   "outputs": [],
   "source": [
    "# replace Scallop licence (Y/N) entries to \"N\" \n",
    "uk_over10_df[\"Scallop licence (Y/N)\"].fillna(\"N\", inplace=True)"
   ]
  },
  {
   "cell_type": "markdown",
   "metadata": {},
   "source": [
    "The report for 2016 does not contain columns for \"Licence Category\", this can be represented as unknown for that year even thought they may have been updated in the next year."
   ]
  },
  {
   "cell_type": "code",
   "execution_count": 22,
   "metadata": {},
   "outputs": [],
   "source": [
    "# replace Licence cat to unknown\n",
    "uk_over10_df[\"Licence Category\"].fillna(\"Unknown\", inplace=True)"
   ]
  },
  {
   "cell_type": "code",
   "execution_count": 23,
   "metadata": {},
   "outputs": [
    {
     "data": {
      "text/plain": [
       "Administrative port                       0\n",
       "Home port                                 0\n",
       "Port letters and numbers                  0\n",
       "Vessel name                               0\n",
       "Registry of Shipping and Seamen number    0\n",
       "Licence number                            0\n",
       "Fish producer organisation                0\n",
       "Overall length                            0\n",
       "Registered tonnage                        0\n",
       "Engine power                              0\n",
       "Vessel capacity units                     0\n",
       "Year built                                0\n",
       "Hull                                      0\n",
       "Country of construction                   0\n",
       "Shellfish  licence (Y/N)                  0\n",
       "Scallop licence (Y/N)                     0\n",
       "For Year                                  0\n",
       "Licence Category                          0\n",
       "dtype: int64"
      ]
     },
     "execution_count": 23,
     "metadata": {},
     "output_type": "execute_result"
    }
   ],
   "source": [
    "# check for null values\n",
    "uk_over10_df.isna().sum()"
   ]
  },
  {
   "cell_type": "markdown",
   "metadata": {},
   "source": [
    "All adjustment ensure that all Null values are handled so no missing values are imported into the mongoDB database"
   ]
  },
  {
   "cell_type": "markdown",
   "id": "9964f5a9",
   "metadata": {
    "tags": [
     "style-student"
    ]
   },
   "source": [
    "#### Importing data with years for vessels of under 10 metres"
   ]
  },
  {
   "cell_type": "code",
   "execution_count": 24,
   "id": "1f2869ce",
   "metadata": {
    "tags": [
     "style-student"
    ]
   },
   "outputs": [
    {
     "data": {
      "text/html": [
       "<div>\n",
       "<style scoped>\n",
       "    .dataframe tbody tr th:only-of-type {\n",
       "        vertical-align: middle;\n",
       "    }\n",
       "\n",
       "    .dataframe tbody tr th {\n",
       "        vertical-align: top;\n",
       "    }\n",
       "\n",
       "    .dataframe thead th {\n",
       "        text-align: right;\n",
       "    }\n",
       "</style>\n",
       "<table border=\"1\" class=\"dataframe\">\n",
       "  <thead>\n",
       "    <tr style=\"text-align: right;\">\n",
       "      <th></th>\n",
       "      <th>Administrative port</th>\n",
       "      <th>Home port</th>\n",
       "      <th>Port letters and number</th>\n",
       "      <th>Vessel name</th>\n",
       "      <th>Registry of Shipping and Seamen number</th>\n",
       "      <th>Licence number</th>\n",
       "      <th>Fish producer organisation</th>\n",
       "      <th>Overall length</th>\n",
       "      <th>Registered tonnage</th>\n",
       "      <th>Engine Power (kw)</th>\n",
       "      <th>Vessel Capacity Units</th>\n",
       "      <th>Year Built</th>\n",
       "      <th>Hull Material</th>\n",
       "      <th>Country of Build</th>\n",
       "      <th>Shellfish Licence  licence (Y/N)</th>\n",
       "      <th>Scallop Licence (Y/N)</th>\n",
       "      <th>For Year</th>\n",
       "      <th>Licence Category</th>\n",
       "    </tr>\n",
       "  </thead>\n",
       "  <tbody>\n",
       "    <tr>\n",
       "      <th>0</th>\n",
       "      <td>ABERDEEN</td>\n",
       "      <td>ABERDEEN</td>\n",
       "      <td>K4</td>\n",
       "      <td>CORNUCOPIA</td>\n",
       "      <td>C18403</td>\n",
       "      <td>20166</td>\n",
       "      <td>NON-SECTOR</td>\n",
       "      <td>4.69</td>\n",
       "      <td>0.78</td>\n",
       "      <td>14.00</td>\n",
       "      <td>14.179</td>\n",
       "      <td>1970.0</td>\n",
       "      <td>F</td>\n",
       "      <td>GBR</td>\n",
       "      <td>Y</td>\n",
       "      <td>N</td>\n",
       "      <td>2016</td>\n",
       "      <td>NaN</td>\n",
       "    </tr>\n",
       "    <tr>\n",
       "      <th>1</th>\n",
       "      <td>ABERDEEN</td>\n",
       "      <td>ABERDEEN</td>\n",
       "      <td>A974</td>\n",
       "      <td>RACHEL</td>\n",
       "      <td>C20472</td>\n",
       "      <td>25923</td>\n",
       "      <td>NON-SECTOR</td>\n",
       "      <td>4.77</td>\n",
       "      <td>0.67</td>\n",
       "      <td>5.96</td>\n",
       "      <td>11.984</td>\n",
       "      <td>2004.0</td>\n",
       "      <td>F</td>\n",
       "      <td>GBR</td>\n",
       "      <td>Y</td>\n",
       "      <td>N</td>\n",
       "      <td>2016</td>\n",
       "      <td>NaN</td>\n",
       "    </tr>\n",
       "    <tr>\n",
       "      <th>2</th>\n",
       "      <td>ABERDEEN</td>\n",
       "      <td>ABERDEEN</td>\n",
       "      <td>A946</td>\n",
       "      <td>SHELLFISHER</td>\n",
       "      <td>C19371</td>\n",
       "      <td>30508</td>\n",
       "      <td>NON-SECTOR</td>\n",
       "      <td>4.77</td>\n",
       "      <td>0.58</td>\n",
       "      <td>15.00</td>\n",
       "      <td>16.147</td>\n",
       "      <td>2000.0</td>\n",
       "      <td>F</td>\n",
       "      <td>GBS</td>\n",
       "      <td>Y</td>\n",
       "      <td>N</td>\n",
       "      <td>2016</td>\n",
       "      <td>NaN</td>\n",
       "    </tr>\n",
       "    <tr>\n",
       "      <th>21071</th>\n",
       "      <td>ULLAPOOL</td>\n",
       "      <td>UNKNOWN</td>\n",
       "      <td>SY12</td>\n",
       "      <td>IONA LOUISE</td>\n",
       "      <td>C17341</td>\n",
       "      <td>33855</td>\n",
       "      <td>NON-SECTOR</td>\n",
       "      <td>5.82</td>\n",
       "      <td>1.64</td>\n",
       "      <td>20.00</td>\n",
       "      <td>23.783</td>\n",
       "      <td>2001.0</td>\n",
       "      <td>F</td>\n",
       "      <td>GBR</td>\n",
       "      <td>Y</td>\n",
       "      <td>N</td>\n",
       "      <td>2019</td>\n",
       "      <td>CATEGORY A (10 METRE AND UNDER)</td>\n",
       "    </tr>\n",
       "    <tr>\n",
       "      <th>21072</th>\n",
       "      <td>ULLAPOOL</td>\n",
       "      <td>UNKNOWN</td>\n",
       "      <td>SY2</td>\n",
       "      <td>NORTHERN LIGHTS</td>\n",
       "      <td>A24446</td>\n",
       "      <td>22265</td>\n",
       "      <td>NON-SECTOR</td>\n",
       "      <td>9.50</td>\n",
       "      <td>8.12</td>\n",
       "      <td>69.00</td>\n",
       "      <td>64.300</td>\n",
       "      <td>1978.0</td>\n",
       "      <td>F</td>\n",
       "      <td>GBR</td>\n",
       "      <td>Y</td>\n",
       "      <td>N</td>\n",
       "      <td>2019</td>\n",
       "      <td>CATEGORY A (10 METRE AND UNDER)</td>\n",
       "    </tr>\n",
       "    <tr>\n",
       "      <th>21073</th>\n",
       "      <td>ULLAPOOL</td>\n",
       "      <td>UNKNOWN</td>\n",
       "      <td>UL597</td>\n",
       "      <td>SOPHIE JANE</td>\n",
       "      <td>C17525</td>\n",
       "      <td>22724</td>\n",
       "      <td>NON-SECTOR</td>\n",
       "      <td>5.62</td>\n",
       "      <td>1.03</td>\n",
       "      <td>37.30</td>\n",
       "      <td>27.575</td>\n",
       "      <td>1989.0</td>\n",
       "      <td>F</td>\n",
       "      <td>GBR</td>\n",
       "      <td>Y</td>\n",
       "      <td>N</td>\n",
       "      <td>2019</td>\n",
       "      <td>CATEGORY A (10 METRE AND UNDER)</td>\n",
       "    </tr>\n",
       "  </tbody>\n",
       "</table>\n",
       "</div>"
      ],
      "text/plain": [
       "      Administrative port Home port Port letters and number      Vessel name  \\\n",
       "0                ABERDEEN  ABERDEEN                      K4       CORNUCOPIA   \n",
       "1                ABERDEEN  ABERDEEN                    A974           RACHEL   \n",
       "2                ABERDEEN  ABERDEEN                    A946      SHELLFISHER   \n",
       "21071            ULLAPOOL   UNKNOWN                    SY12      IONA LOUISE   \n",
       "21072            ULLAPOOL   UNKNOWN                     SY2  NORTHERN LIGHTS   \n",
       "21073            ULLAPOOL   UNKNOWN                   UL597      SOPHIE JANE   \n",
       "\n",
       "      Registry of Shipping and Seamen number  Licence number  \\\n",
       "0                                     C18403           20166   \n",
       "1                                     C20472           25923   \n",
       "2                                     C19371           30508   \n",
       "21071                                 C17341           33855   \n",
       "21072                                 A24446           22265   \n",
       "21073                                 C17525           22724   \n",
       "\n",
       "      Fish producer organisation  Overall length  Registered tonnage  \\\n",
       "0                     NON-SECTOR            4.69                0.78   \n",
       "1                     NON-SECTOR            4.77                0.67   \n",
       "2                     NON-SECTOR            4.77                0.58   \n",
       "21071                 NON-SECTOR            5.82                1.64   \n",
       "21072                 NON-SECTOR            9.50                8.12   \n",
       "21073                 NON-SECTOR            5.62                1.03   \n",
       "\n",
       "       Engine Power (kw)  Vessel Capacity Units  Year Built Hull Material  \\\n",
       "0                  14.00                 14.179      1970.0             F   \n",
       "1                   5.96                 11.984      2004.0             F   \n",
       "2                  15.00                 16.147      2000.0             F   \n",
       "21071              20.00                 23.783      2001.0             F   \n",
       "21072              69.00                 64.300      1978.0             F   \n",
       "21073              37.30                 27.575      1989.0             F   \n",
       "\n",
       "      Country of Build Shellfish Licence  licence (Y/N) Scallop Licence (Y/N)  \\\n",
       "0                  GBR                                Y                     N   \n",
       "1                  GBR                                Y                     N   \n",
       "2                  GBS                                Y                     N   \n",
       "21071              GBR                                Y                     N   \n",
       "21072              GBR                                Y                     N   \n",
       "21073              GBR                                Y                     N   \n",
       "\n",
       "       For Year                 Licence Category  \n",
       "0          2016                              NaN  \n",
       "1          2016                              NaN  \n",
       "2          2016                              NaN  \n",
       "21071      2019  CATEGORY A (10 METRE AND UNDER)  \n",
       "21072      2019  CATEGORY A (10 METRE AND UNDER)  \n",
       "21073      2019  CATEGORY A (10 METRE AND UNDER)  "
      ]
     },
     "execution_count": 24,
     "metadata": {},
     "output_type": "execute_result"
    }
   ],
   "source": [
    "# initialise an empty df to input all entries\n",
    "uk_under10_df = pd.DataFrame()\n",
    "\n",
    "# get all data from the directory for vessels over 10m\n",
    "for i in glob.glob(\"Analysis_data/FishingVessels/*Under_10m_vessel_list.xls\"):\n",
    "    temp_df = pd.read_excel(i,\n",
    "                        sheet_name=0,\n",
    "                        skiprows=4\n",
    "                        )\n",
    "\n",
    "    # get the year from the string and minus 1 \n",
    "    # add a column that shows the reporting year\n",
    "    temp_df[\"For Year\"] = int(re.search(r\"_(\\d{4})_\",i).group(1)) - 1\n",
    "\n",
    "    # add the data to the main df\n",
    "    uk_under10_df =  uk_under10_df.append(temp_df, ignore_index=1)\n",
    "    \n",
    "# preview first and last 3 entries\n",
    "uk_under10_df.head(3).append(uk_under10_df.tail(3))"
   ]
  },
  {
   "cell_type": "markdown",
   "id": "a2b8baf4",
   "metadata": {
    "tags": [
     "style-student"
    ]
   },
   "source": [
    "#### Cleaning the data for under 10m - THIS SECTION IS AN UPDATE"
   ]
  },
  {
   "cell_type": "code",
   "execution_count": 25,
   "id": "1009af3f",
   "metadata": {
    "scrolled": true,
    "tags": [
     "style-student"
    ]
   },
   "outputs": [
    {
     "data": {
      "text/plain": [
       "Administrative port                        object\n",
       "Home port                                  object\n",
       "Port letters and number                    object\n",
       "Vessel name                                object\n",
       "Registry of Shipping and Seamen number     object\n",
       "Licence number                              int64\n",
       "Fish producer organisation                 object\n",
       "Overall length                            float64\n",
       "Registered tonnage                        float64\n",
       "Engine Power (kw)                         float64\n",
       "Vessel Capacity Units                     float64\n",
       "Year Built                                float64\n",
       "Hull Material                              object\n",
       "Country of Build                           object\n",
       "Shellfish Licence  licence (Y/N)           object\n",
       "Scallop Licence (Y/N)                      object\n",
       "For Year                                    int64\n",
       "Licence Category                           object\n",
       "dtype: object"
      ]
     },
     "execution_count": 25,
     "metadata": {},
     "output_type": "execute_result"
    }
   ],
   "source": [
    "#Check the column types\n",
    "uk_under10_df.dtypes"
   ]
  },
  {
   "cell_type": "markdown",
   "metadata": {},
   "source": [
    "All types seem to match what they represent"
   ]
  },
  {
   "cell_type": "code",
   "execution_count": 26,
   "metadata": {},
   "outputs": [
    {
     "data": {
      "text/plain": [
       "Administrative port                          0\n",
       "Home port                                    0\n",
       "Port letters and number                      0\n",
       "Vessel name                                  0\n",
       "Registry of Shipping and Seamen number       0\n",
       "Licence number                               0\n",
       "Fish producer organisation                   0\n",
       "Overall length                               0\n",
       "Registered tonnage                           0\n",
       "Engine Power (kw)                            0\n",
       "Vessel Capacity Units                        0\n",
       "Year Built                                1450\n",
       "Hull Material                              159\n",
       "Country of Build                          1978\n",
       "Shellfish Licence  licence (Y/N)           161\n",
       "Scallop Licence (Y/N)                       25\n",
       "For Year                                     0\n",
       "Licence Category                          4248\n",
       "dtype: int64"
      ]
     },
     "execution_count": 26,
     "metadata": {},
     "output_type": "execute_result"
    }
   ],
   "source": [
    "# check for null values\n",
    "uk_under10_df.isna().sum()"
   ]
  },
  {
   "cell_type": "markdown",
   "metadata": {},
   "source": [
    "The datasets are unable to state what year some vessels where built, however the vessels can still be used for analysis. The unknown years can temporarily be represented by 0 as the column needs to be a number. "
   ]
  },
  {
   "cell_type": "code",
   "execution_count": 27,
   "metadata": {},
   "outputs": [],
   "source": [
    "# replace null values with 0\n",
    "uk_under10_df[\"Year Built\"].fillna(0, inplace=True)"
   ]
  },
  {
   "cell_type": "markdown",
   "metadata": {},
   "source": [
    "Based on the notes tab of the vessels list, Unknown values are represented with \"U\". Therefore this can be used to replaced the null values since it is not possible to know what material the vessel has, via the documents."
   ]
  },
  {
   "cell_type": "code",
   "execution_count": 28,
   "metadata": {},
   "outputs": [],
   "source": [
    "uk_under10_df[\"Hull Material\"].fillna(\"U\", inplace=True)"
   ]
  },
  {
   "cell_type": "markdown",
   "metadata": {},
   "source": [
    "Based on the notes tab of the vessels list, Unknown values are represented with \"UNK\". Therefore this can be used to replaced the null values since it is not possible to know what material the vessel has, via the documents."
   ]
  },
  {
   "cell_type": "code",
   "execution_count": 29,
   "metadata": {},
   "outputs": [],
   "source": [
    "# replace null Country of construction to UNK\n",
    "uk_under10_df[\"Country of Build\"].fillna(\"UNK\", inplace=True)"
   ]
  },
  {
   "cell_type": "markdown",
   "metadata": {},
   "source": [
    "Since there is just one entry, it is possible that the null values got updated in later years. It can then be updated to match."
   ]
  },
  {
   "cell_type": "code",
   "execution_count": 30,
   "metadata": {},
   "outputs": [],
   "source": [
    "# replace entry to \"N\" to match similar entries\n",
    "uk_under10_df[\"Shellfish Licence  licence (Y/N)\"].fillna(\"N\", inplace=True)"
   ]
  },
  {
   "cell_type": "markdown",
   "metadata": {},
   "source": [
    "It is assumed that no Scallop licence entry meant that the vessel was not issued one for that time. So the null entries where replaced to \"N\" "
   ]
  },
  {
   "cell_type": "code",
   "execution_count": 31,
   "metadata": {},
   "outputs": [],
   "source": [
    "# replace Scallop licence (Y/N) entries to \"N\" \n",
    "uk_under10_df[\"Scallop Licence (Y/N)\"].fillna(\"N\", inplace=True)"
   ]
  },
  {
   "cell_type": "markdown",
   "metadata": {},
   "source": [
    "The report for 2016 does not contain columns for \"Licence Category\", this can be represented as unknown for that year even thought they may have been updated in the next year."
   ]
  },
  {
   "cell_type": "code",
   "execution_count": 32,
   "metadata": {},
   "outputs": [],
   "source": [
    "# replace Licence cat to unknown\n",
    "uk_under10_df[\"Licence Category\"].fillna(\"Unknown\", inplace=True)"
   ]
  },
  {
   "cell_type": "code",
   "execution_count": 33,
   "metadata": {},
   "outputs": [
    {
     "data": {
      "text/plain": [
       "Administrative port                       0\n",
       "Home port                                 0\n",
       "Port letters and numbers                  0\n",
       "Vessel name                               0\n",
       "Registry of Shipping and Seamen number    0\n",
       "Licence number                            0\n",
       "Fish producer organisation                0\n",
       "Overall length                            0\n",
       "Registered tonnage                        0\n",
       "Engine power                              0\n",
       "Vessel capacity units                     0\n",
       "Year built                                0\n",
       "Hull                                      0\n",
       "Country of construction                   0\n",
       "Shellfish  licence (Y/N)                  0\n",
       "Scallop licence (Y/N)                     0\n",
       "For Year                                  0\n",
       "Licence Category                          0\n",
       "dtype: int64"
      ]
     },
     "execution_count": 33,
     "metadata": {},
     "output_type": "execute_result"
    }
   ],
   "source": [
    "# check for null values\n",
    "uk_over10_df.isna().sum()"
   ]
  },
  {
   "cell_type": "markdown",
   "metadata": {},
   "source": [
    "All adjustment ensure that all Null values are handled so no missing values are imported into the mongoDB database"
   ]
  },
  {
   "cell_type": "markdown",
   "id": "feb4d95a",
   "metadata": {
    "tags": [
     "style-student"
    ]
   },
   "source": [
    "#### Comparing both dataframes"
   ]
  },
  {
   "cell_type": "code",
   "execution_count": 34,
   "id": "10e2cba7",
   "metadata": {
    "scrolled": true,
    "tags": [
     "style-student"
    ]
   },
   "outputs": [
    {
     "data": {
      "text/plain": [
       "Index(['Country of construction', 'Engine power', 'Hull',\n",
       "       'Port letters and numbers', 'Scallop licence (Y/N)',\n",
       "       'Shellfish  licence (Y/N)', 'Vessel capacity units', 'Year built'],\n",
       "      dtype='object')"
      ]
     },
     "execution_count": 34,
     "metadata": {},
     "output_type": "execute_result"
    }
   ],
   "source": [
    "# check for a difference in column names of the two datasets\n",
    "uk_over10_df.columns.difference(uk_under10_df.columns)"
   ]
  },
  {
   "cell_type": "markdown",
   "id": "9216f3b4",
   "metadata": {
    "tags": [
     "style-student"
    ]
   },
   "source": [
    "After investigating the names of the columns of both data it is deduced that:\n",
    "- Country of construction and Country of Build represent the same data so Country of Build was renamed to Country of construction\n",
    "- Engine power and Engine Power (kw) is the same so Engine Power (kw) was renamed to Engine power\n",
    "- Hull and Hull Material is the same so Hull Material was renamed to Hull\n",
    "- 'Port letters and numbers' and 'Port letters and number' is the same so Port letters and number was renamed to Port letters and numbers\n",
    "- Scallop licence (Y/N) and Scallop Licence (Y/N) is the same so Scallop Licence (Y/N) was renamed to Scallop licence (Y/N)\n",
    "- Shellfish  licence (Y/N) and Shellfish Licence  licence (Y/N) is the same so Shellfish Licence  licence (Y/N) was renamed to Shellfish licence (Y/N)\n",
    "- Vessel capacity units and Vessel Capacity Units is the same so Vessel Capacity Units was replaced to Vessel capacity units\n",
    "- Year built and Year Built is the same so Year Built was renamed to Year built\n",
    "\n",
    "all renaming were done in uk_under10_df"
   ]
  },
  {
   "cell_type": "code",
   "execution_count": 35,
   "id": "f88a8a7b",
   "metadata": {
    "tags": [
     "style-student"
    ]
   },
   "outputs": [],
   "source": [
    "uk_under10_df.rename(columns={'Country of Build': 'Country of construction',\n",
    "                              'Engine Power (kw)': 'Engine power',\n",
    "                              'Hull Material': 'Hull',\n",
    "                              'Port letters and number': 'Port letters and numbers',\n",
    "                              'Scallop Licence (Y/N)': 'Scallop licence (Y/N)',\n",
    "                              'Shellfish Licence  licence (Y/N)': 'Shellfish  licence (Y/N)',\n",
    "                              'Vessel Capacity Units': 'Vessel capacity units',\n",
    "                              'Year Built': 'Year built'}, inplace=True)\n"
   ]
  },
  {
   "cell_type": "code",
   "execution_count": 36,
   "id": "9dd369d3",
   "metadata": {
    "tags": [
     "style-student"
    ]
   },
   "outputs": [
    {
     "data": {
      "text/plain": [
       "Index([], dtype='object')"
      ]
     },
     "execution_count": 36,
     "metadata": {},
     "output_type": "execute_result"
    }
   ],
   "source": [
    "# re-check for a difference in column names of the two datasets\n",
    "uk_over10_df.columns.difference(uk_under10_df.columns)"
   ]
  },
  {
   "cell_type": "markdown",
   "id": "30c9ee9d",
   "metadata": {
    "tags": [
     "style-student"
    ]
   },
   "source": [
    "As the result returns empty, the columns names on both datasets now match."
   ]
  },
  {
   "cell_type": "markdown",
   "id": "333649e2",
   "metadata": {
    "tags": [
     "style-student"
    ]
   },
   "source": [
    "#### Inserting the data to mongoDB"
   ]
  },
  {
   "cell_type": "markdown",
   "id": "b530a0c9",
   "metadata": {
    "tags": [
     "style-student"
    ]
   },
   "source": [
    "Now that both Over 10m and Under 10m contain data with similar headings they can be entered into mongoDB as a single collection"
   ]
  },
  {
   "cell_type": "code",
   "execution_count": 37,
   "id": "40fd818e",
   "metadata": {
    "tags": [
     "style-student"
    ]
   },
   "outputs": [
    {
     "data": {
      "text/plain": [
       "<pymongo.results.InsertManyResult at 0x7f5659aa4e80>"
      ]
     },
     "execution_count": 37,
     "metadata": {},
     "output_type": "execute_result"
    }
   ],
   "source": [
    "# insert uk_over10_df into mongoDB uf_collection\n",
    "uf_collection.insert_many(uk_over10_df.to_dict(orient='records'))\n",
    "\n",
    "# insert uk_under10_df into mongoDB uf_collection\n",
    "uf_collection.insert_many(uk_under10_df.to_dict(orient='records'))"
   ]
  },
  {
   "cell_type": "code",
   "execution_count": 38,
   "id": "5ac8798e",
   "metadata": {
    "scrolled": true,
    "tags": [
     "style-student"
    ]
   },
   "outputs": [
    {
     "data": {
      "text/html": [
       "<div>\n",
       "<style scoped>\n",
       "    .dataframe tbody tr th:only-of-type {\n",
       "        vertical-align: middle;\n",
       "    }\n",
       "\n",
       "    .dataframe tbody tr th {\n",
       "        vertical-align: top;\n",
       "    }\n",
       "\n",
       "    .dataframe thead th {\n",
       "        text-align: right;\n",
       "    }\n",
       "</style>\n",
       "<table border=\"1\" class=\"dataframe\">\n",
       "  <thead>\n",
       "    <tr style=\"text-align: right;\">\n",
       "      <th></th>\n",
       "      <th>_id</th>\n",
       "      <th>Administrative port</th>\n",
       "      <th>Home port</th>\n",
       "      <th>Port letters and numbers</th>\n",
       "      <th>Vessel name</th>\n",
       "      <th>Registry of Shipping and Seamen number</th>\n",
       "      <th>Licence number</th>\n",
       "      <th>Fish producer organisation</th>\n",
       "      <th>Overall length</th>\n",
       "      <th>Registered tonnage</th>\n",
       "      <th>Engine power</th>\n",
       "      <th>Vessel capacity units</th>\n",
       "      <th>Year built</th>\n",
       "      <th>Hull</th>\n",
       "      <th>Country of construction</th>\n",
       "      <th>Shellfish  licence (Y/N)</th>\n",
       "      <th>Scallop licence (Y/N)</th>\n",
       "      <th>For Year</th>\n",
       "      <th>Licence Category</th>\n",
       "    </tr>\n",
       "  </thead>\n",
       "  <tbody>\n",
       "    <tr>\n",
       "      <th>0</th>\n",
       "      <td>629e7390924ea1d650dede0b</td>\n",
       "      <td>ABERDEEN</td>\n",
       "      <td>ABERDEEN</td>\n",
       "      <td>WK46</td>\n",
       "      <td>LILY V</td>\n",
       "      <td>A10911</td>\n",
       "      <td>44163</td>\n",
       "      <td>NON-SECTOR</td>\n",
       "      <td>10.30</td>\n",
       "      <td>10.36</td>\n",
       "      <td>82.0</td>\n",
       "      <td>82.632</td>\n",
       "      <td>1983.0</td>\n",
       "      <td>W</td>\n",
       "      <td>GBR</td>\n",
       "      <td>Y</td>\n",
       "      <td>N</td>\n",
       "      <td>2016</td>\n",
       "      <td>Unknown</td>\n",
       "    </tr>\n",
       "    <tr>\n",
       "      <th>1</th>\n",
       "      <td>629e7390924ea1d650dede0c</td>\n",
       "      <td>ABERDEEN</td>\n",
       "      <td>ABERDEEN</td>\n",
       "      <td>AH4</td>\n",
       "      <td>BONNIE LASS II</td>\n",
       "      <td>C20280</td>\n",
       "      <td>11955</td>\n",
       "      <td>NON-SECTOR</td>\n",
       "      <td>10.40</td>\n",
       "      <td>9.41</td>\n",
       "      <td>140.0</td>\n",
       "      <td>103.872</td>\n",
       "      <td>2012.0</td>\n",
       "      <td>F</td>\n",
       "      <td>GBR</td>\n",
       "      <td>Y</td>\n",
       "      <td>N</td>\n",
       "      <td>2016</td>\n",
       "      <td>Unknown</td>\n",
       "    </tr>\n",
       "    <tr>\n",
       "      <th>2</th>\n",
       "      <td>629e7390924ea1d650dede0d</td>\n",
       "      <td>ABERDEEN</td>\n",
       "      <td>ABERDEEN</td>\n",
       "      <td>A441</td>\n",
       "      <td>BOY GORDON V</td>\n",
       "      <td>B10713</td>\n",
       "      <td>40414</td>\n",
       "      <td>ABERDEEN FPO LTD</td>\n",
       "      <td>11.28</td>\n",
       "      <td>28.06</td>\n",
       "      <td>94.0</td>\n",
       "      <td>94.639</td>\n",
       "      <td>1989.0</td>\n",
       "      <td>F</td>\n",
       "      <td>GBR</td>\n",
       "      <td>Y</td>\n",
       "      <td>N</td>\n",
       "      <td>2016</td>\n",
       "      <td>Unknown</td>\n",
       "    </tr>\n",
       "  </tbody>\n",
       "</table>\n",
       "</div>"
      ],
      "text/plain": [
       "                        _id Administrative port Home port  \\\n",
       "0  629e7390924ea1d650dede0b            ABERDEEN  ABERDEEN   \n",
       "1  629e7390924ea1d650dede0c            ABERDEEN  ABERDEEN   \n",
       "2  629e7390924ea1d650dede0d            ABERDEEN  ABERDEEN   \n",
       "\n",
       "  Port letters and numbers     Vessel name  \\\n",
       "0                     WK46          LILY V   \n",
       "1                      AH4  BONNIE LASS II   \n",
       "2                     A441    BOY GORDON V   \n",
       "\n",
       "  Registry of Shipping and Seamen number  Licence number  \\\n",
       "0                                 A10911           44163   \n",
       "1                                 C20280           11955   \n",
       "2                                 B10713           40414   \n",
       "\n",
       "  Fish producer organisation  Overall length  Registered tonnage  \\\n",
       "0                 NON-SECTOR           10.30               10.36   \n",
       "1                 NON-SECTOR           10.40                9.41   \n",
       "2           ABERDEEN FPO LTD           11.28               28.06   \n",
       "\n",
       "   Engine power  Vessel capacity units  Year built Hull  \\\n",
       "0          82.0                 82.632      1983.0    W   \n",
       "1         140.0                103.872      2012.0    F   \n",
       "2          94.0                 94.639      1989.0    F   \n",
       "\n",
       "  Country of construction Shellfish  licence (Y/N) Scallop licence (Y/N)  \\\n",
       "0                     GBR                        Y                     N   \n",
       "1                     GBR                        Y                     N   \n",
       "2                     GBR                        Y                     N   \n",
       "\n",
       "   For Year Licence Category  \n",
       "0      2016          Unknown  \n",
       "1      2016          Unknown  \n",
       "2      2016          Unknown  "
      ]
     },
     "execution_count": 38,
     "metadata": {},
     "output_type": "execute_result"
    }
   ],
   "source": [
    "# preview first 3 documents where uk_over10_df was inserted\n",
    "pd.DataFrame(uf_collection.find({})).head(3)"
   ]
  },
  {
   "cell_type": "code",
   "execution_count": 39,
   "id": "f4f90b7c",
   "metadata": {
    "scrolled": true,
    "tags": [
     "style-student"
    ]
   },
   "outputs": [
    {
     "data": {
      "text/html": [
       "<div>\n",
       "<style scoped>\n",
       "    .dataframe tbody tr th:only-of-type {\n",
       "        vertical-align: middle;\n",
       "    }\n",
       "\n",
       "    .dataframe tbody tr th {\n",
       "        vertical-align: top;\n",
       "    }\n",
       "\n",
       "    .dataframe thead th {\n",
       "        text-align: right;\n",
       "    }\n",
       "</style>\n",
       "<table border=\"1\" class=\"dataframe\">\n",
       "  <thead>\n",
       "    <tr style=\"text-align: right;\">\n",
       "      <th></th>\n",
       "      <th>_id</th>\n",
       "      <th>Administrative port</th>\n",
       "      <th>Home port</th>\n",
       "      <th>Port letters and numbers</th>\n",
       "      <th>Vessel name</th>\n",
       "      <th>Registry of Shipping and Seamen number</th>\n",
       "      <th>Licence number</th>\n",
       "      <th>Fish producer organisation</th>\n",
       "      <th>Overall length</th>\n",
       "      <th>Registered tonnage</th>\n",
       "      <th>Engine power</th>\n",
       "      <th>Vessel capacity units</th>\n",
       "      <th>Year built</th>\n",
       "      <th>Hull</th>\n",
       "      <th>Country of construction</th>\n",
       "      <th>Shellfish  licence (Y/N)</th>\n",
       "      <th>Scallop licence (Y/N)</th>\n",
       "      <th>For Year</th>\n",
       "      <th>Licence Category</th>\n",
       "    </tr>\n",
       "  </thead>\n",
       "  <tbody>\n",
       "    <tr>\n",
       "      <th>27341</th>\n",
       "      <td>629e7392924ea1d650df48d8</td>\n",
       "      <td>ULLAPOOL</td>\n",
       "      <td>UNKNOWN</td>\n",
       "      <td>SY12</td>\n",
       "      <td>IONA LOUISE</td>\n",
       "      <td>C17341</td>\n",
       "      <td>33855</td>\n",
       "      <td>NON-SECTOR</td>\n",
       "      <td>5.82</td>\n",
       "      <td>1.64</td>\n",
       "      <td>20.0</td>\n",
       "      <td>23.783</td>\n",
       "      <td>2001.0</td>\n",
       "      <td>F</td>\n",
       "      <td>GBR</td>\n",
       "      <td>Y</td>\n",
       "      <td>N</td>\n",
       "      <td>2019</td>\n",
       "      <td>CATEGORY A (10 METRE AND UNDER)</td>\n",
       "    </tr>\n",
       "    <tr>\n",
       "      <th>27342</th>\n",
       "      <td>629e7392924ea1d650df48d9</td>\n",
       "      <td>ULLAPOOL</td>\n",
       "      <td>UNKNOWN</td>\n",
       "      <td>SY2</td>\n",
       "      <td>NORTHERN LIGHTS</td>\n",
       "      <td>A24446</td>\n",
       "      <td>22265</td>\n",
       "      <td>NON-SECTOR</td>\n",
       "      <td>9.50</td>\n",
       "      <td>8.12</td>\n",
       "      <td>69.0</td>\n",
       "      <td>64.300</td>\n",
       "      <td>1978.0</td>\n",
       "      <td>F</td>\n",
       "      <td>GBR</td>\n",
       "      <td>Y</td>\n",
       "      <td>N</td>\n",
       "      <td>2019</td>\n",
       "      <td>CATEGORY A (10 METRE AND UNDER)</td>\n",
       "    </tr>\n",
       "    <tr>\n",
       "      <th>27343</th>\n",
       "      <td>629e7392924ea1d650df48da</td>\n",
       "      <td>ULLAPOOL</td>\n",
       "      <td>UNKNOWN</td>\n",
       "      <td>UL597</td>\n",
       "      <td>SOPHIE JANE</td>\n",
       "      <td>C17525</td>\n",
       "      <td>22724</td>\n",
       "      <td>NON-SECTOR</td>\n",
       "      <td>5.62</td>\n",
       "      <td>1.03</td>\n",
       "      <td>37.3</td>\n",
       "      <td>27.575</td>\n",
       "      <td>1989.0</td>\n",
       "      <td>F</td>\n",
       "      <td>GBR</td>\n",
       "      <td>Y</td>\n",
       "      <td>N</td>\n",
       "      <td>2019</td>\n",
       "      <td>CATEGORY A (10 METRE AND UNDER)</td>\n",
       "    </tr>\n",
       "  </tbody>\n",
       "</table>\n",
       "</div>"
      ],
      "text/plain": [
       "                            _id Administrative port Home port  \\\n",
       "27341  629e7392924ea1d650df48d8            ULLAPOOL   UNKNOWN   \n",
       "27342  629e7392924ea1d650df48d9            ULLAPOOL   UNKNOWN   \n",
       "27343  629e7392924ea1d650df48da            ULLAPOOL   UNKNOWN   \n",
       "\n",
       "      Port letters and numbers      Vessel name  \\\n",
       "27341                     SY12      IONA LOUISE   \n",
       "27342                      SY2  NORTHERN LIGHTS   \n",
       "27343                    UL597      SOPHIE JANE   \n",
       "\n",
       "      Registry of Shipping and Seamen number  Licence number  \\\n",
       "27341                                 C17341           33855   \n",
       "27342                                 A24446           22265   \n",
       "27343                                 C17525           22724   \n",
       "\n",
       "      Fish producer organisation  Overall length  Registered tonnage  \\\n",
       "27341                 NON-SECTOR            5.82                1.64   \n",
       "27342                 NON-SECTOR            9.50                8.12   \n",
       "27343                 NON-SECTOR            5.62                1.03   \n",
       "\n",
       "       Engine power  Vessel capacity units  Year built Hull  \\\n",
       "27341          20.0                 23.783      2001.0    F   \n",
       "27342          69.0                 64.300      1978.0    F   \n",
       "27343          37.3                 27.575      1989.0    F   \n",
       "\n",
       "      Country of construction Shellfish  licence (Y/N) Scallop licence (Y/N)  \\\n",
       "27341                     GBR                        Y                     N   \n",
       "27342                     GBR                        Y                     N   \n",
       "27343                     GBR                        Y                     N   \n",
       "\n",
       "       For Year                 Licence Category  \n",
       "27341      2019  CATEGORY A (10 METRE AND UNDER)  \n",
       "27342      2019  CATEGORY A (10 METRE AND UNDER)  \n",
       "27343      2019  CATEGORY A (10 METRE AND UNDER)  "
      ]
     },
     "execution_count": 39,
     "metadata": {},
     "output_type": "execute_result"
    }
   ],
   "source": [
    "# preview last 3 documents where uk_under10_df was inserted\n",
    "pd.DataFrame(uf_collection.find({})).tail(3)"
   ]
  },
  {
   "cell_type": "markdown",
   "metadata": {},
   "source": [
    "#### Checking the data to mongoDB - THIS IS AN UPDATE"
   ]
  },
  {
   "cell_type": "code",
   "execution_count": 40,
   "metadata": {},
   "outputs": [
    {
     "name": "stdout",
     "output_type": "stream",
     "text": [
      "21074\n",
      "6270\n",
      "27344\n"
     ]
    }
   ],
   "source": [
    "\n",
    "# check if all items where inserted\n",
    "print(len(uk_under10_df))\n",
    "print(len(uk_over10_df))\n",
    "print(uf_collection.count_documents({}))"
   ]
  },
  {
   "cell_type": "markdown",
   "id": "85110725",
   "metadata": {},
   "source": [
    "Although previous checks showed there were no NaN values in the entries prior to being added to the database, as an extra step, the keys in the collection are rechecked and replaced with \"\". This maintains the integrity that no NaN values are allowed in MongoDB."
   ]
  },
  {
   "cell_type": "code",
   "execution_count": 41,
   "metadata": {},
   "outputs": [],
   "source": [
    "# check for NaN values and replace it\n",
    "for key in uf_collection.find_one({}).keys():\n",
    "    uf_collection.update_many({key: float('nan')}, {'$unset': {key:''}})"
   ]
  }
 ],
 "metadata": {
  "kernelspec": {
   "display_name": "Python 3 (ipykernel)",
   "language": "python",
   "name": "python3"
  },
  "language_info": {
   "codemirror_mode": {
    "name": "ipython",
    "version": 3
   },
   "file_extension": ".py",
   "mimetype": "text/x-python",
   "name": "python",
   "nbconvert_exporter": "python",
   "pygments_lexer": "ipython3",
   "version": "3.8.5"
  },
  "vscode": {
   "interpreter": {
    "hash": "efc6b991f2d449cd7e280fe90ddec7f429aa672ca1e81a172922fa178c7524da"
   }
  }
 },
 "nbformat": 4,
 "nbformat_minor": 2
}
