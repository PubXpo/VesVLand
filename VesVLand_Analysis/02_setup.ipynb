{
 "cells": [
  {
   "cell_type": "code",
   "execution_count": 1,
   "metadata": {},
   "outputs": [],
   "source": [
    "# standard imports\n",
    "import pandas as pd\n",
    "import chardet\n",
    "import re\n",
    "import os\n",
    "import glob\n",
    "import matplotlib.pyplot as plt\n",
    "import seaborn as sns\n",
    "import folium"
   ]
  },
  {
   "cell_type": "markdown",
   "id": "a9cf7583",
   "metadata": {},
   "source": [
    "#### Connecting to the Database"
   ]
  },
  {
   "cell_type": "markdown",
   "id": "8e8aa765",
   "metadata": {},
   "source": [
    "The data must be stored in a database so it can be referenced later and analysed. MongoDB was chosen for its flexibility and ability to easily manipulate data for datasets with the potential to grow very large over time."
   ]
  },
  {
   "cell_type": "code",
   "execution_count": null,
   "id": "34d2ac5f",
   "metadata": {},
   "outputs": [],
   "source": [
    "# connect to the MongoDB Server\n",
    "MONGO_CONNECTION_STRING = f\"mongodb://localhost:27017/\"\n",
    "print(f\"MONGO_CONNECTION_STRING = {MONGO_CONNECTION_STRING}\")\n",
    "\n",
    "DB_NAME =\"ves_land_db\"\n",
    "print(f\"DB_NAME = {DB_NAME}\")"
   ]
  },
  {
   "cell_type": "code",
   "execution_count": 3,
   "id": "5b46b34a",
   "metadata": {},
   "outputs": [],
   "source": [
    "# connect to the database\n",
    "from pymongo import MongoClient\n",
    "mongo_client = MongoClient(MONGO_CONNECTION_STRING)"
   ]
  },
  {
   "cell_type": "code",
   "execution_count": 4,
   "id": "2d3a21fd",
   "metadata": {},
   "outputs": [],
   "source": [
    "vess_land_db = mongo_client[DB_NAME]"
   ]
  }
 ],
 "metadata": {
  "kernelspec": {
   "display_name": "Python 3 (ipykernel)",
   "language": "python",
   "name": "python3"
  },
  "language_info": {
   "codemirror_mode": {
    "name": "ipython",
    "version": 3
   },
   "file_extension": ".py",
   "mimetype": "text/x-python",
   "name": "python",
   "nbconvert_exporter": "python",
   "pygments_lexer": "ipython3",
   "version": "3.8.5"
  },
  "vscode": {
   "interpreter": {
    "hash": "efc6b991f2d449cd7e280fe90ddec7f429aa672ca1e81a172922fa178c7524da"
   }
  }
 },
 "nbformat": 4,
 "nbformat_minor": 2
}
